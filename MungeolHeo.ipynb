{
 "cells": [
  {
   "cell_type": "code",
   "execution_count": 12,
   "metadata": {
    "collapsed": false
   },
   "outputs": [],
   "source": [
    "import random\n",
    "\n",
    "# Prepare data\n",
    "data1 = [(1,'a'),(3,'a'),(5,'c')]\n",
    "df1 = sc.parallelize(data1) \n",
    "\n",
    "data2 = [[1,2,3],[4,5]]\n",
    "df2 = sc.parallelize(data2) \n",
    "\n"
   ]
  },
  {
   "cell_type": "code",
   "execution_count": 13,
   "metadata": {
    "collapsed": false
   },
   "outputs": [],
   "source": [
    "\n",
    "def func1(vals):\n",
    "    output =[]\n",
    "    uniqueId = random.random()  # create token\n",
    "    for value in vals:\n",
    "        output.append((value,uniqueId)) # assign same token element of same list\n",
    "        \n",
    "    return ([x for x in output])\n",
    "    \n",
    "df2_map = df2.flatMap(func1)\n"
   ]
  },
  {
   "cell_type": "code",
   "execution_count": 14,
   "metadata": {
    "collapsed": false
   },
   "outputs": [
    {
     "data": {
      "text/plain": [
       "[(1, 0.08274957943281247),\n",
       " (2, 0.08274957943281247),\n",
       " (3, 0.08274957943281247),\n",
       " (4, 0.18387489142057012),\n",
       " (5, 0.18387489142057012)]"
      ]
     },
     "execution_count": 14,
     "metadata": {},
     "output_type": "execute_result"
    }
   ],
   "source": [
    "df2_map.collect()"
   ]
  },
  {
   "cell_type": "code",
   "execution_count": 15,
   "metadata": {
    "collapsed": false
   },
   "outputs": [
    {
     "data": {
      "text/plain": [
       "[(1, 'a'), (3, 'a'), (5, 'c')]"
      ]
     },
     "execution_count": 15,
     "metadata": {},
     "output_type": "execute_result"
    }
   ],
   "source": [
    "df1.collect()"
   ]
  },
  {
   "cell_type": "code",
   "execution_count": 16,
   "metadata": {
    "collapsed": false
   },
   "outputs": [],
   "source": [
    "result = df2_map.fullOuterJoin(df1).map(lambda line : (line[1][0],(line[0],line[1][1]) ))"
   ]
  },
  {
   "cell_type": "code",
   "execution_count": 17,
   "metadata": {
    "collapsed": false
   },
   "outputs": [
    {
     "data": {
      "text/plain": [
       "[(0.08274957943281247, [(1, 'a'), (2, None), (3, 'a')]),\n",
       " (0.18387489142057012, [(4, None), (5, 'c')])]"
      ]
     },
     "execution_count": 17,
     "metadata": {},
     "output_type": "execute_result"
    }
   ],
   "source": [
    "\n",
    "lines = result.groupByKey().mapValues(lambda line: [x for x in line]) \n",
    "    \n",
    "lines.collect()\n",
    "   "
   ]
  },
  {
   "cell_type": "code",
   "execution_count": 20,
   "metadata": {
    "collapsed": false
   },
   "outputs": [
    {
     "data": {
      "text/plain": [
       "[([1, 2, 3], {'a'}), ([4, 5], {'c'})]"
      ]
     },
     "execution_count": 20,
     "metadata": {},
     "output_type": "execute_result"
    }
   ],
   "source": [
    "def unzip(vlist):\n",
    "    k =[]\n",
    "    v= []\n",
    "    for entry in vlist:\n",
    "        k.append(entry[0])\n",
    "        if entry[1] is not None:\n",
    "            v.append(entry[1])\n",
    "    \n",
    "    return (k,set(v))\n",
    "\n",
    "# Final result\n",
    "lines.mapValues(unzip).values().collect()\n",
    "    "
   ]
  },
  {
   "cell_type": "code",
   "execution_count": null,
   "metadata": {
    "collapsed": true
   },
   "outputs": [],
   "source": []
  }
 ],
 "metadata": {
  "anaconda-cloud": {},
  "kernelspec": {
   "display_name": "Python [Root]",
   "language": "python",
   "name": "Python [Root]"
  },
  "language_info": {
   "codemirror_mode": {
    "name": "ipython",
    "version": 3
   },
   "file_extension": ".py",
   "mimetype": "text/x-python",
   "name": "python",
   "nbconvert_exporter": "python",
   "pygments_lexer": "ipython3",
   "version": "3.5.2"
  }
 },
 "nbformat": 4,
 "nbformat_minor": 0
}
